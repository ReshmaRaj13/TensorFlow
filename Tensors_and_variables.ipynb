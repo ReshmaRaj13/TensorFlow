{
  "nbformat": 4,
  "nbformat_minor": 0,
  "metadata": {
    "colab": {
      "provenance": [],
      "toc_visible": true
    },
    "kernelspec": {
      "name": "python3",
      "display_name": "Python 3"
    },
    "language_info": {
      "name": "python"
    }
  },
  "cells": [
    {
      "cell_type": "code",
      "execution_count": 1,
      "metadata": {
        "id": "GGFpCfanWWgW"
      },
      "outputs": [],
      "source": [
        "import tensorflow as tf\n"
      ]
    },
    {
      "cell_type": "markdown",
      "source": [
        "# Tensor Initialization and Casting"
      ],
      "metadata": {
        "id": "1CokFmX0YlPL"
      }
    },
    {
      "cell_type": "code",
      "source": [
        "tensor_zero_d = tf.constant(4)\n",
        "print(tensor_zero_d)"
      ],
      "metadata": {
        "colab": {
          "base_uri": "https://localhost:8080/"
        },
        "id": "HnGI5VdfWi6G",
        "outputId": "9c18ea68-d62e-46e9-e4db-18e7da51b95b"
      },
      "execution_count": null,
      "outputs": [
        {
          "output_type": "stream",
          "name": "stdout",
          "text": [
            "tf.Tensor(4, shape=(), dtype=int32)\n"
          ]
        }
      ]
    },
    {
      "cell_type": "code",
      "source": [
        "tensor_one_d = tf.constant([2, 0., -3, 8.1, 90], dtype = tf.float32)\n",
        "casted_tensor_one_d = tf.cast(tensor_one_d, dtype = tf.int16)\n",
        "print(tensor_one_d)\n",
        "print(casted_tensor_one_d)"
      ],
      "metadata": {
        "colab": {
          "base_uri": "https://localhost:8080/"
        },
        "id": "sAFGXkRCWn-9",
        "outputId": "a5de5b78-ab2c-47b0-dd3f-d2af6be8bae5"
      },
      "execution_count": null,
      "outputs": [
        {
          "output_type": "stream",
          "name": "stdout",
          "text": [
            "tf.Tensor([ 2.   0.  -3.   8.1 90. ], shape=(5,), dtype=float32)\n",
            "tf.Tensor([ 2  0 -3  8 90], shape=(5,), dtype=int16)\n"
          ]
        }
      ]
    },
    {
      "cell_type": "code",
      "source": [
        "tensor_bool = tf.constant([True, True, False])\n",
        "print(tensor_bool)"
      ],
      "metadata": {
        "colab": {
          "base_uri": "https://localhost:8080/"
        },
        "id": "drbDIwb0G6qZ",
        "outputId": "52d69fa1-9f60-4f16-b5e0-5f1d386963a0"
      },
      "execution_count": null,
      "outputs": [
        {
          "output_type": "stream",
          "name": "stdout",
          "text": [
            "tf.Tensor([ True  True False], shape=(3,), dtype=bool)\n"
          ]
        }
      ]
    },
    {
      "cell_type": "code",
      "source": [
        "tensor_string = tf.constant([\"hello world\", \"hi\"])\n",
        "print(tensor_string)"
      ],
      "metadata": {
        "colab": {
          "base_uri": "https://localhost:8080/"
        },
        "id": "EZAkW1cvHXFe",
        "outputId": "65b7e771-4fcc-40af-da74-3e8d5a1eebcf"
      },
      "execution_count": null,
      "outputs": [
        {
          "output_type": "stream",
          "name": "stdout",
          "text": [
            "tf.Tensor([b'hello world' b'hi'], shape=(2,), dtype=string)\n"
          ]
        }
      ]
    },
    {
      "cell_type": "code",
      "source": [
        "tensor_one_d = tf.constant([2, 0., -3, 8.1, 90], dtype = tf.float32)\n",
        "casted_tensor_one_d = tf.cast(tensor_one_d, dtype = tf.bool)\n",
        "print(tensor_one_d)\n",
        "print(casted_tensor_one_d)"
      ],
      "metadata": {
        "colab": {
          "base_uri": "https://localhost:8080/"
        },
        "id": "18ofq-owGqpg",
        "outputId": "c6ab9a22-a9c0-4b6a-cc50-f62ebc2a2706"
      },
      "execution_count": null,
      "outputs": [
        {
          "output_type": "stream",
          "name": "stdout",
          "text": [
            "tf.Tensor([ 2.   0.  -3.   8.1 90. ], shape=(5,), dtype=float32)\n",
            "tf.Tensor([ True False  True  True  True], shape=(5,), dtype=bool)\n"
          ]
        }
      ]
    },
    {
      "cell_type": "code",
      "source": [
        "tensor_two_d = tf.constant([\n",
        "                          [1, 2, 0],\n",
        "                           [3, 5, -1],\n",
        "                           [2, 4, 5]])\n",
        "print(tensor_two_d)"
      ],
      "metadata": {
        "colab": {
          "base_uri": "https://localhost:8080/"
        },
        "id": "Y7cvX-ivW3cP",
        "outputId": "0e373a07-18af-4b5b-c2e8-d59feb9732f5"
      },
      "execution_count": null,
      "outputs": [
        {
          "output_type": "stream",
          "name": "stdout",
          "text": [
            "tf.Tensor(\n",
            "[[ 1  2  0]\n",
            " [ 3  5 -1]\n",
            " [ 2  4  5]], shape=(3, 3), dtype=int32)\n"
          ]
        }
      ]
    },
    {
      "cell_type": "code",
      "source": [
        "tensor_three_d = tf.constant([\n",
        "                            [[1, 2, 0], [3, 5, -1]],\n",
        "                            [[10, 2, 0], [1, 0, 2]],\n",
        "                            [[5, 8, 0], [2, 3, 4]],\n",
        "                            [[5, 8, 0], [2, 3, 4]]\n",
        "                              ])\n",
        "print(tensor_three_d)"
      ],
      "metadata": {
        "colab": {
          "base_uri": "https://localhost:8080/"
        },
        "id": "XfozyQKEcUuy",
        "outputId": "7bb2504c-6e69-4fdf-d28c-cc7acbf0becc"
      },
      "execution_count": null,
      "outputs": [
        {
          "output_type": "stream",
          "name": "stdout",
          "text": [
            "tf.Tensor(\n",
            "[[[ 1  2  0]\n",
            "  [ 3  5 -1]]\n",
            "\n",
            " [[10  2  0]\n",
            "  [ 1  0  2]]\n",
            "\n",
            " [[ 5  8  0]\n",
            "  [ 2  3  4]]\n",
            "\n",
            " [[ 5  8  0]\n",
            "  [ 2  3  4]]], shape=(4, 2, 3), dtype=int32)\n"
          ]
        }
      ]
    },
    {
      "cell_type": "code",
      "source": [
        "tensor_four_d = tf.constant([[\n",
        "                            [[1, 2, 0], [3, 5, -1]],\n",
        "                            [[10, 2, 0], [1, 0, 2]],\n",
        "                            [[5, 8, 0], [2, 3, 4]],\n",
        "                            [[5, 8, 0], [2, 3, 4]]\n",
        "                            ],\n",
        "                             [\n",
        "                            [[1, 2, 0], [3, 5, -1]],\n",
        "                            [[10, 2, 0], [1, 0, 2]],\n",
        "                            [[5, 10, 0], [2, 3, 4]],\n",
        "                            [[5, 8, 0], [2, 30, 4]]\n",
        "                              ]])\n",
        "print(tensor_four_d)"
      ],
      "metadata": {
        "colab": {
          "base_uri": "https://localhost:8080/"
        },
        "id": "hTdLGyQ_dOZO",
        "outputId": "9e781092-b4c7-43b6-ce89-735aa94bf14f"
      },
      "execution_count": null,
      "outputs": [
        {
          "output_type": "stream",
          "name": "stdout",
          "text": [
            "tf.Tensor(\n",
            "[[[[ 1  2  0]\n",
            "   [ 3  5 -1]]\n",
            "\n",
            "  [[10  2  0]\n",
            "   [ 1  0  2]]\n",
            "\n",
            "  [[ 5  8  0]\n",
            "   [ 2  3  4]]\n",
            "\n",
            "  [[ 5  8  0]\n",
            "   [ 2  3  4]]]\n",
            "\n",
            "\n",
            " [[[ 1  2  0]\n",
            "   [ 3  5 -1]]\n",
            "\n",
            "  [[10  2  0]\n",
            "   [ 1  0  2]]\n",
            "\n",
            "  [[ 5 10  0]\n",
            "   [ 2  3  4]]\n",
            "\n",
            "  [[ 5  8  0]\n",
            "   [ 2 30  4]]]], shape=(2, 4, 2, 3), dtype=int32)\n"
          ]
        }
      ]
    },
    {
      "cell_type": "code",
      "source": [
        "import numpy as np"
      ],
      "metadata": {
        "id": "4iqrMoeAeatw"
      },
      "execution_count": null,
      "outputs": []
    },
    {
      "cell_type": "code",
      "source": [
        "np_array = np.array([1, 2, 4])\n",
        "print(np_array)"
      ],
      "metadata": {
        "colab": {
          "base_uri": "https://localhost:8080/"
        },
        "id": "X1jd6PvgICpm",
        "outputId": "61573a2a-f250-4625-e245-0f90424c5efd"
      },
      "execution_count": null,
      "outputs": [
        {
          "output_type": "stream",
          "name": "stdout",
          "text": [
            "[1 2 4]\n"
          ]
        }
      ]
    },
    {
      "cell_type": "code",
      "source": [
        "converted_tensor = tf.convert_to_tensor(np_array)\n",
        "print(converted_tensor)"
      ],
      "metadata": {
        "colab": {
          "base_uri": "https://localhost:8080/"
        },
        "id": "cpcgtjiTIKAU",
        "outputId": "d14d3f36-1eb2-434c-c30a-bd88754ba306"
      },
      "execution_count": null,
      "outputs": [
        {
          "output_type": "stream",
          "name": "stdout",
          "text": [
            "tf.Tensor([1 2 4], shape=(3,), dtype=int64)\n"
          ]
        }
      ]
    },
    {
      "cell_type": "code",
      "source": [
        "eye_tensor = tf.eye(\n",
        "             num_rows = 3,\n",
        "             num_columns =None,\n",
        "             batch_shape = None,\n",
        "             dtype = tf.dtypes.float32,\n",
        "             name = None\n",
        ")\n",
        "print(eye_tensor)"
      ],
      "metadata": {
        "colab": {
          "base_uri": "https://localhost:8080/"
        },
        "id": "ZTQak_EEIcP3",
        "outputId": "551111b1-3a11-483e-a0dd-a1b8c03bb35a"
      },
      "execution_count": null,
      "outputs": [
        {
          "output_type": "stream",
          "name": "stdout",
          "text": [
            "tf.Tensor(\n",
            "[[1. 0. 0.]\n",
            " [0. 1. 0.]\n",
            " [0. 0. 1.]], shape=(3, 3), dtype=float32)\n"
          ]
        }
      ]
    },
    {
      "cell_type": "code",
      "source": [
        "fill_tensor = tf.fill([1, 3, 4], 5, name = None)\n",
        "print(fill_tensor)"
      ],
      "metadata": {
        "colab": {
          "base_uri": "https://localhost:8080/"
        },
        "id": "l-J7Thg9JRQt",
        "outputId": "30082bc6-6713-4afa-d427-fede4f63f940"
      },
      "execution_count": null,
      "outputs": [
        {
          "output_type": "stream",
          "name": "stdout",
          "text": [
            "tf.Tensor(\n",
            "[[[5 5 5 5]\n",
            "  [5 5 5 5]\n",
            "  [5 5 5 5]]], shape=(1, 3, 4), dtype=int32)\n"
          ]
        }
      ]
    },
    {
      "cell_type": "code",
      "source": [
        "ones_tensor = tf.ones(\n",
        "                      [5, 3, 2],\n",
        "                      dtype = tf.dtypes.float32,\n",
        "                      name = None\n",
        "                     )\n",
        "print(ones_tensor)"
      ],
      "metadata": {
        "colab": {
          "base_uri": "https://localhost:8080/"
        },
        "id": "a__ryx_6L2hz",
        "outputId": "001aa1c3-4ff1-41ff-b642-f4cec4d0b0a0"
      },
      "execution_count": null,
      "outputs": [
        {
          "output_type": "stream",
          "name": "stdout",
          "text": [
            "tf.Tensor(\n",
            "[[[1. 1.]\n",
            "  [1. 1.]\n",
            "  [1. 1.]]\n",
            "\n",
            " [[1. 1.]\n",
            "  [1. 1.]\n",
            "  [1. 1.]]\n",
            "\n",
            " [[1. 1.]\n",
            "  [1. 1.]\n",
            "  [1. 1.]]\n",
            "\n",
            " [[1. 1.]\n",
            "  [1. 1.]\n",
            "  [1. 1.]]\n",
            "\n",
            " [[1. 1.]\n",
            "  [1. 1.]\n",
            "  [1. 1.]]], shape=(5, 3, 2), dtype=float32)\n"
          ]
        }
      ]
    },
    {
      "cell_type": "code",
      "source": [
        "ones_like_tensor = tf.ones_like(fill_tensor)\n",
        "print(ones_like_tensor)"
      ],
      "metadata": {
        "colab": {
          "base_uri": "https://localhost:8080/"
        },
        "id": "cFrV82PqMP1e",
        "outputId": "575a9a70-c9b0-4744-80f3-9120d86e2902"
      },
      "execution_count": null,
      "outputs": [
        {
          "output_type": "stream",
          "name": "stdout",
          "text": [
            "tf.Tensor(\n",
            "[[[1 1 1 1]\n",
            "  [1 1 1 1]\n",
            "  [1 1 1 1]]], shape=(1, 3, 4), dtype=int32)\n"
          ]
        }
      ]
    },
    {
      "cell_type": "code",
      "source": [
        "zeros_tensor = tf.zeros(\n",
        "                        [3, 2],\n",
        "                        dtype = tf.dtypes.float32,\n",
        "                        name = None\n",
        "                        )\n",
        "print(zeros_tensor)"
      ],
      "metadata": {
        "colab": {
          "base_uri": "https://localhost:8080/"
        },
        "id": "8RkjsZp7M8Kt",
        "outputId": "5a324232-47e0-4cf5-b58e-6a067497eb9c"
      },
      "execution_count": null,
      "outputs": [
        {
          "output_type": "stream",
          "name": "stdout",
          "text": [
            "tf.Tensor(\n",
            "[[0. 0.]\n",
            " [0. 0.]\n",
            " [0. 0.]], shape=(3, 2), dtype=float32)\n"
          ]
        }
      ]
    },
    {
      "cell_type": "code",
      "source": [
        "print(tensor_three_d.ndim)"
      ],
      "metadata": {
        "colab": {
          "base_uri": "https://localhost:8080/"
        },
        "id": "fmQx18ywNTMK",
        "outputId": "a38a3005-49ad-48ad-e509-8825616b8981"
      },
      "execution_count": null,
      "outputs": [
        {
          "output_type": "stream",
          "name": "stdout",
          "text": [
            "3\n"
          ]
        }
      ]
    },
    {
      "cell_type": "code",
      "source": [
        "print(tensor_three_d.shape)"
      ],
      "metadata": {
        "colab": {
          "base_uri": "https://localhost:8080/"
        },
        "id": "jBanMqwwNyWs",
        "outputId": "44a6b3c3-66f0-4ac3-8b6d-67900d769aed"
      },
      "execution_count": null,
      "outputs": [
        {
          "output_type": "stream",
          "name": "stdout",
          "text": [
            "(4, 2, 3)\n"
          ]
        }
      ]
    },
    {
      "cell_type": "code",
      "source": [
        "print(tf.shape(tensor_three_d))"
      ],
      "metadata": {
        "colab": {
          "base_uri": "https://localhost:8080/"
        },
        "id": "RzrxQV38N6sV",
        "outputId": "b3bb8ba8-fbd2-40b0-8151-aa8fa8fac80e"
      },
      "execution_count": null,
      "outputs": [
        {
          "output_type": "stream",
          "name": "stdout",
          "text": [
            "tf.Tensor([4 2 3], shape=(3,), dtype=int32)\n"
          ]
        }
      ]
    },
    {
      "cell_type": "code",
      "source": [
        "t = tf.constant([[[1, 1, 1], [2, 2, 2]], [[3, 3, 3], [4, 4, 4]]])\n",
        "print(tf.size(t))\n",
        "tf.rank(t)"
      ],
      "metadata": {
        "colab": {
          "base_uri": "https://localhost:8080/"
        },
        "id": "1UC_cpuXOK4G",
        "outputId": "f2fe6683-9ca7-4053-f881-a1cdba7a3bb3"
      },
      "execution_count": null,
      "outputs": [
        {
          "output_type": "stream",
          "name": "stdout",
          "text": [
            "tf.Tensor(12, shape=(), dtype=int32)\n"
          ]
        },
        {
          "output_type": "execute_result",
          "data": {
            "text/plain": [
              "<tf.Tensor: shape=(), dtype=int32, numpy=3>"
            ]
          },
          "metadata": {},
          "execution_count": 29
        }
      ]
    },
    {
      "cell_type": "code",
      "source": [
        "t = tf.constant([[[1, 1, 1], [2, 2, 2]], [[3, 3, 3], [4, 4, 4]]])\n",
        "print(tf.size(t))"
      ],
      "metadata": {
        "colab": {
          "base_uri": "https://localhost:8080/"
        },
        "id": "r5FRY2UhPS6Z",
        "outputId": "82af8a50-8bae-4530-f3af-9aa1437444b6"
      },
      "execution_count": null,
      "outputs": [
        {
          "output_type": "stream",
          "name": "stdout",
          "text": [
            "tf.Tensor(12, shape=(), dtype=int32)\n"
          ]
        }
      ]
    },
    {
      "cell_type": "code",
      "source": [
        "random_tensor = tf.random.normal([3, 2], mean = 0.0, stddev = 1.0, dtype = tf.dtypes.float32, seed = None, name = None)\n",
        "print(random_tensor)"
      ],
      "metadata": {
        "colab": {
          "base_uri": "https://localhost:8080/"
        },
        "id": "KwVTKlTVPoKo",
        "outputId": "2bbd1bbd-d89d-4716-bce9-7fa96299b2d4"
      },
      "execution_count": null,
      "outputs": [
        {
          "output_type": "stream",
          "name": "stdout",
          "text": [
            "tf.Tensor(\n",
            "[[ 1.1785142  -0.54290986]\n",
            " [-0.42179978  0.48427892]\n",
            " [-1.1997995  -0.5346898 ]], shape=(3, 2), dtype=float32)\n"
          ]
        }
      ]
    },
    {
      "cell_type": "code",
      "source": [
        "random_uniform_tensor = tf.random.uniform(\n",
        "                     [5,],\n",
        "                     minval = 0,\n",
        "                     maxval = None,\n",
        "                     dtype = tf.dtypes.float32,\n",
        "                     seed = None,\n",
        "                     name = None\n",
        ")\n",
        "print(random_uniform_tensor)"
      ],
      "metadata": {
        "colab": {
          "base_uri": "https://localhost:8080/"
        },
        "id": "iuagYlJ1Sb8Q",
        "outputId": "54104b64-3d6b-4e4c-a0e0-1c246b5e52a4"
      },
      "execution_count": null,
      "outputs": [
        {
          "output_type": "stream",
          "name": "stdout",
          "text": [
            "tf.Tensor([0.96633923 0.3966123  0.58203876 0.75125647 0.564322  ], shape=(5,), dtype=float32)\n"
          ]
        }
      ]
    },
    {
      "cell_type": "code",
      "source": [
        "tf.random.set_seed(3)\n",
        "print(tf.random.uniform(shape = [3,], maxval = 5, dtype = tf.int32, seed = 10))\n",
        "print(tf.random.uniform(shape = [3,], maxval = 5, dtype = tf.int32, seed = 10))\n",
        "print(tf.random.uniform(shape = [3,], maxval = 5, dtype = tf.int32, seed = 10))\n",
        "print(tf.random.uniform(shape = [3,], maxval = 5, dtype = tf.int32, seed = 10))"
      ],
      "metadata": {
        "colab": {
          "base_uri": "https://localhost:8080/"
        },
        "id": "tcl82Gr6U79u",
        "outputId": "44087ec1-f4ff-4d0a-d68a-71b25aaebdd6"
      },
      "execution_count": null,
      "outputs": [
        {
          "output_type": "stream",
          "name": "stdout",
          "text": [
            "tf.Tensor([3 2 3], shape=(3,), dtype=int32)\n",
            "tf.Tensor([1 3 1], shape=(3,), dtype=int32)\n",
            "tf.Tensor([2 1 3], shape=(3,), dtype=int32)\n",
            "tf.Tensor([2 1 2], shape=(3,), dtype=int32)\n"
          ]
        }
      ]
    },
    {
      "cell_type": "code",
      "source": [
        "tf.random.set_seed(3)\n",
        "print(tf.random.uniform(shape = [3,], maxval = 5, dtype = tf.int32, seed = 10))\n",
        "print(tf.random.uniform(shape = [3,], maxval = 5, dtype = tf.int32, seed = 1))\n"
      ],
      "metadata": {
        "colab": {
          "base_uri": "https://localhost:8080/"
        },
        "id": "7IyjepVEYN8v",
        "outputId": "e8ff853b-49d7-4817-ee31-b1aff0e53104"
      },
      "execution_count": null,
      "outputs": [
        {
          "output_type": "stream",
          "name": "stdout",
          "text": [
            "tf.Tensor([3 2 3], shape=(3,), dtype=int32)\n",
            "tf.Tensor([4 0 3], shape=(3,), dtype=int32)\n"
          ]
        }
      ]
    },
    {
      "cell_type": "markdown",
      "source": [
        "# Tensor Indexing"
      ],
      "metadata": {
        "id": "B7PAnoieYtC7"
      }
    },
    {
      "cell_type": "code",
      "source": [
        "tensor_indexed = tf.constant([3, 6, 2, 4, 6, 66, 7])\n",
        "print(tensor_indexed)\n",
        "print(tensor_indexed[0:4])\n",
        "print(tensor_indexed[1:6])\n",
        "print(tensor_indexed[1:6:2])\n",
        "print(tensor_indexed[:4])\n",
        "print(tensor_indexed[3:])\n",
        "print(tensor_indexed[3:-1])"
      ],
      "metadata": {
        "colab": {
          "base_uri": "https://localhost:8080/"
        },
        "id": "nHDNByl2Yc6y",
        "outputId": "b4f5bb9a-81eb-4bf7-fdb5-8906c5385156"
      },
      "execution_count": null,
      "outputs": [
        {
          "output_type": "stream",
          "name": "stdout",
          "text": [
            "tf.Tensor([ 3  6  2  4  6 66  7], shape=(7,), dtype=int32)\n",
            "tf.Tensor([3 6 2 4], shape=(4,), dtype=int32)\n",
            "tf.Tensor([ 6  2  4  6 66], shape=(5,), dtype=int32)\n",
            "tf.Tensor([ 6  4 66], shape=(3,), dtype=int32)\n",
            "tf.Tensor([3 6 2 4], shape=(4,), dtype=int32)\n",
            "tf.Tensor([ 4  6 66  7], shape=(4,), dtype=int32)\n",
            "tf.Tensor([ 4  6 66], shape=(3,), dtype=int32)\n"
          ]
        }
      ]
    },
    {
      "cell_type": "code",
      "source": [
        "tensor_two_d = tf.constant([[1, 2, 0],\n",
        "                           [3, 5, -1],\n",
        "                           [1, 5, 6],\n",
        "                           [2, 3, 8]])\n",
        "print(tensor_two_d[0:3, :2 ])\n",
        "print(tensor_two_d[2, : ])\n",
        "print(tensor_two_d[1:3, 0])\n",
        "print(tensor_two_d[..., 1])\n",
        "print(tensor_two_d[:, 1])"
      ],
      "metadata": {
        "colab": {
          "base_uri": "https://localhost:8080/"
        },
        "id": "SNXpgkiRZkUb",
        "outputId": "d905a098-14a7-40b5-9fb5-2fcc4dc0c967"
      },
      "execution_count": null,
      "outputs": [
        {
          "output_type": "stream",
          "name": "stdout",
          "text": [
            "tf.Tensor(\n",
            "[[1 2]\n",
            " [3 5]\n",
            " [1 5]], shape=(3, 2), dtype=int32)\n",
            "tf.Tensor([1 5 6], shape=(3,), dtype=int32)\n",
            "tf.Tensor([3 1], shape=(2,), dtype=int32)\n",
            "tf.Tensor([2 5 5 3], shape=(4,), dtype=int32)\n",
            "tf.Tensor([2 5 5 3], shape=(4,), dtype=int32)\n"
          ]
        }
      ]
    },
    {
      "cell_type": "code",
      "source": [
        "tensor_three_d = tf.constant([\n",
        "                            [[1, 2, 0], [3, 5, -1]],\n",
        "                            [[10, 2, 0], [1, 0, 2]],\n",
        "                            [[5, 8, 0], [2, 3, 4]],\n",
        "                            [[5, 8, 0], [2, 3, 4]]\n",
        "                              ])\n",
        "print(tensor_three_d[0 ,:, :])\n",
        "print(tensor_three_d[0 ,:, 0:-1])\n",
        "print(tensor_three_d[... ,:, 0])"
      ],
      "metadata": {
        "colab": {
          "base_uri": "https://localhost:8080/"
        },
        "id": "LiYNMJXmcFtl",
        "outputId": "15c40334-d44d-4654-8ea1-edccf1e1fe86"
      },
      "execution_count": null,
      "outputs": [
        {
          "output_type": "stream",
          "name": "stdout",
          "text": [
            "tf.Tensor(\n",
            "[[ 1  2  0]\n",
            " [ 3  5 -1]], shape=(2, 3), dtype=int32)\n",
            "tf.Tensor(\n",
            "[[1 2]\n",
            " [3 5]], shape=(2, 2), dtype=int32)\n",
            "tf.Tensor(\n",
            "[[ 1  3]\n",
            " [10  1]\n",
            " [ 5  2]\n",
            " [ 5  2]], shape=(4, 2), dtype=int32)\n"
          ]
        }
      ]
    },
    {
      "cell_type": "markdown",
      "source": [
        "# Math operations\n"
      ],
      "metadata": {
        "id": "oNffgEQLMI8J"
      }
    },
    {
      "cell_type": "code",
      "source": [
        "x_abs = tf.constant([-2.25, 3.25])\n",
        "tf.abs(x_abs)"
      ],
      "metadata": {
        "id": "lF2Or6fT8I8k",
        "colab": {
          "base_uri": "https://localhost:8080/"
        },
        "outputId": "1b8cc2bd-ad51-4e81-a608-705f03b30b2a"
      },
      "execution_count": 8,
      "outputs": [
        {
          "output_type": "execute_result",
          "data": {
            "text/plain": [
              "<tf.Tensor: shape=(2,), dtype=float32, numpy=array([2.25, 3.25], dtype=float32)>"
            ]
          },
          "metadata": {},
          "execution_count": 8
        }
      ]
    },
    {
      "cell_type": "code",
      "source": [
        "tf.abs(tf.constant(-0.2))"
      ],
      "metadata": {
        "colab": {
          "base_uri": "https://localhost:8080/"
        },
        "id": "v9Mp1YbHJ4Lp",
        "outputId": "4aee6508-5b5c-4db3-fae0-e13429443c2b"
      },
      "execution_count": 9,
      "outputs": [
        {
          "output_type": "execute_result",
          "data": {
            "text/plain": [
              "<tf.Tensor: shape=(), dtype=float32, numpy=0.2>"
            ]
          },
          "metadata": {},
          "execution_count": 9
        }
      ]
    },
    {
      "cell_type": "code",
      "source": [
        "x_abs_complex = tf.constant([-2.25 + 4.75j])\n",
        "tf.abs(x_abs_complex)"
      ],
      "metadata": {
        "colab": {
          "base_uri": "https://localhost:8080/"
        },
        "id": "lnibioq1J_vu",
        "outputId": "eb70c9bb-703d-4af7-9a4e-5719c46d992c"
      },
      "execution_count": 11,
      "outputs": [
        {
          "output_type": "execute_result",
          "data": {
            "text/plain": [
              "<tf.Tensor: shape=(1,), dtype=float64, numpy=array([5.25594901])>"
            ]
          },
          "metadata": {},
          "execution_count": 11
        }
      ]
    },
    {
      "cell_type": "code",
      "source": [
        "tf.sqrt(3.33)"
      ],
      "metadata": {
        "colab": {
          "base_uri": "https://localhost:8080/"
        },
        "id": "1YWUSlH4LnnS",
        "outputId": "50cb35ee-1c3c-41f1-9026-d03449df79e4"
      },
      "execution_count": 14,
      "outputs": [
        {
          "output_type": "execute_result",
          "data": {
            "text/plain": [
              "<tf.Tensor: shape=(), dtype=float32, numpy=1.8248287>"
            ]
          },
          "metadata": {},
          "execution_count": 14
        }
      ]
    },
    {
      "cell_type": "code",
      "source": [
        "x_1 = tf.constant([5, 3, 6, 6, 4, 6], dtype = tf.int32)\n",
        "x_2 = tf.constant([7, 6, 2, 6, 7, 11], dtype = tf.int32)\n",
        "print(tf.multiply(x_1, x_2))\n",
        "print(tf.divide(x_1, x_2))"
      ],
      "metadata": {
        "colab": {
          "base_uri": "https://localhost:8080/"
        },
        "id": "GTul0uE-Kn1O",
        "outputId": "698be61d-1e19-4708-ddca-b6ff1bc53275"
      },
      "execution_count": 13,
      "outputs": [
        {
          "output_type": "stream",
          "name": "stdout",
          "text": [
            "tf.Tensor([35 18 12 36 28 66], shape=(6,), dtype=int32)\n",
            "tf.Tensor([0.71428571 0.5        3.         1.         0.57142857 0.54545455], shape=(6,), dtype=float64)\n"
          ]
        }
      ]
    },
    {
      "cell_type": "code",
      "source": [
        "print(tf.math.divide_no_nan(x_1, x_2))"
      ],
      "metadata": {
        "colab": {
          "base_uri": "https://localhost:8080/"
        },
        "id": "KznMl1ysLKf-",
        "outputId": "77b0dcc2-2aa0-4e31-bd4d-5b918723d426"
      },
      "execution_count": 15,
      "outputs": [
        {
          "output_type": "stream",
          "name": "stdout",
          "text": [
            "tf.Tensor([0.71428571 0.5        3.         1.         0.57142857 0.54545455], shape=(6,), dtype=float64)\n"
          ]
        }
      ]
    },
    {
      "cell_type": "code",
      "source": [
        "x_1 = tf.constant([5, 3, 6, 6, 4, 6], dtype = tf.float32)\n",
        "x_2 = tf.constant([7], dtype = tf.float32)\n",
        "x_2_stretched = tf.constant([7, 7, 7, 7, 7, 7], dtype = tf.float32)\n",
        "\n",
        "print(tf.math.add(x_1, x_2))\n",
        "print(tf.math.add(x_1, x_2_stretched))"
      ],
      "metadata": {
        "colab": {
          "base_uri": "https://localhost:8080/"
        },
        "id": "vPCTk0ZiL9cW",
        "outputId": "8d13b684-e9ac-4eef-fbb1-206c5cb1fc74"
      },
      "execution_count": 18,
      "outputs": [
        {
          "output_type": "stream",
          "name": "stdout",
          "text": [
            "tf.Tensor([12. 10. 13. 13. 11. 13.], shape=(6,), dtype=float32)\n",
            "tf.Tensor([12. 10. 13. 13. 11. 13.], shape=(6,), dtype=float32)\n"
          ]
        }
      ]
    },
    {
      "cell_type": "code",
      "source": [
        "x_1 = tf.constant([[5, 3, 6, 6, 4, 6]], dtype = tf.float32)\n",
        "x_2 = tf.constant([[7], [5], [3]], dtype = tf.float32)\n",
        "print(x_1.shape)\n",
        "print(x_2.shape)\n",
        "print(tf.math.multiply(x_1, x_2))"
      ],
      "metadata": {
        "colab": {
          "base_uri": "https://localhost:8080/"
        },
        "id": "rHx_JE3WMfhr",
        "outputId": "92c58fef-2aaf-4d99-ed1d-bf18569d767f"
      },
      "execution_count": 21,
      "outputs": [
        {
          "output_type": "stream",
          "name": "stdout",
          "text": [
            "(1, 6)\n",
            "(3, 1)\n",
            "tf.Tensor(\n",
            "[[35. 21. 42. 42. 28. 42.]\n",
            " [25. 15. 30. 30. 20. 30.]\n",
            " [15.  9. 18. 18. 12. 18.]], shape=(3, 6), dtype=float32)\n"
          ]
        }
      ]
    },
    {
      "cell_type": "code",
      "source": [
        "x_argmax = tf.constant([[2, 20, 30, 3, 6],\n",
        "                       [3, 11, 16, 1, 8],\n",
        "                       [14, 45, 23, 5, 27]])\n",
        "print(x_argmax.shape)\n",
        "print(tf.math.argmax(x_argmax, 0))"
      ],
      "metadata": {
        "colab": {
          "base_uri": "https://localhost:8080/"
        },
        "id": "RpNuQ191OLau",
        "outputId": "eccdbff0-e2e3-4bff-eb64-0b17540a0ee7"
      },
      "execution_count": 27,
      "outputs": [
        {
          "output_type": "stream",
          "name": "stdout",
          "text": [
            "(3, 5)\n",
            "tf.Tensor([2 2 0 2 2], shape=(5,), dtype=int64)\n"
          ]
        }
      ]
    },
    {
      "cell_type": "code",
      "source": [
        "x_argmax = tf.constant([[2, 20, 30, 3, 6],\n",
        "                       [3, 11, 16, 1, 8],\n",
        "                       [14, 45, 23, 5, 27]])\n",
        "print(x_argmax.shape)\n",
        "print(tf.math.argmax(x_argmax, axis = 1))"
      ],
      "metadata": {
        "colab": {
          "base_uri": "https://localhost:8080/"
        },
        "id": "LFvUj85iRofa",
        "outputId": "519e94a5-b3e1-4571-95a2-c408ee895114"
      },
      "execution_count": 28,
      "outputs": [
        {
          "output_type": "stream",
          "name": "stdout",
          "text": [
            "(3, 5)\n",
            "tf.Tensor([2 2 1], shape=(3,), dtype=int64)\n"
          ]
        }
      ]
    },
    {
      "cell_type": "code",
      "source": [
        "x_argmax = tf.constant([200, 120, 130, 3, 6])\n",
        "print(tf.math.argmax(x_argmax))"
      ],
      "metadata": {
        "colab": {
          "base_uri": "https://localhost:8080/"
        },
        "id": "CsmOAd4GO2vw",
        "outputId": "c7084078-412a-4f7b-8da9-5a2d85dec628"
      },
      "execution_count": 25,
      "outputs": [
        {
          "output_type": "stream",
          "name": "stdout",
          "text": [
            "tf.Tensor(0, shape=(), dtype=int64)\n"
          ]
        }
      ]
    },
    {
      "cell_type": "code",
      "source": [
        "x_argmin = tf.constant([200, 120, 130, 3, 6])\n",
        "print(tf.math.argmin(x_argmin))"
      ],
      "metadata": {
        "colab": {
          "base_uri": "https://localhost:8080/"
        },
        "id": "ucqoUO5NQkKT",
        "outputId": "e5ba5c29-dc1e-4eda-b579-b71c986bc734"
      },
      "execution_count": 26,
      "outputs": [
        {
          "output_type": "stream",
          "name": "stdout",
          "text": [
            "tf.Tensor(3, shape=(), dtype=int64)\n"
          ]
        }
      ]
    },
    {
      "cell_type": "code",
      "source": [
        "x = tf.constant([[2, 2], [3, 3]])\n",
        "y = tf.constant([[3, 0], [1, 4]])\n",
        "tf.pow(x, y)"
      ],
      "metadata": {
        "colab": {
          "base_uri": "https://localhost:8080/"
        },
        "id": "WUZZBtatQsCx",
        "outputId": "7e4d7bc5-1dfa-4456-de9b-dffbfdce42a2"
      },
      "execution_count": 30,
      "outputs": [
        {
          "output_type": "execute_result",
          "data": {
            "text/plain": [
              "<tf.Tensor: shape=(2, 2), dtype=int32, numpy=\n",
              "array([[ 8,  1],\n",
              "       [ 3, 81]], dtype=int32)>"
            ]
          },
          "metadata": {},
          "execution_count": 30
        }
      ]
    },
    {
      "cell_type": "code",
      "source": [
        "tf.pow(tf.constant(2), tf.constant(3))"
      ],
      "metadata": {
        "colab": {
          "base_uri": "https://localhost:8080/"
        },
        "id": "OVEYgJCCS55u",
        "outputId": "b722cb10-997d-4781-8bfb-e60e917412be"
      },
      "execution_count": 31,
      "outputs": [
        {
          "output_type": "execute_result",
          "data": {
            "text/plain": [
              "<tf.Tensor: shape=(), dtype=int32, numpy=8>"
            ]
          },
          "metadata": {},
          "execution_count": 31
        }
      ]
    },
    {
      "cell_type": "code",
      "source": [
        "tensor_two_d = tf.constant([[1, 2, 0],\n",
        "                            [3, 5, -1],\n",
        "                            [1, 5, 6],\n",
        "                            [2, 3, 8]])\n",
        "print(tf.math.reduce_sum(tensor_two_d, axis = None, keepdims = False, name = None))"
      ],
      "metadata": {
        "colab": {
          "base_uri": "https://localhost:8080/"
        },
        "id": "EB-1R3KSVXXZ",
        "outputId": "1f8f8d24-0994-4037-bc3a-416d74f710ef"
      },
      "execution_count": 32,
      "outputs": [
        {
          "output_type": "stream",
          "name": "stdout",
          "text": [
            "tf.Tensor(35, shape=(), dtype=int32)\n"
          ]
        }
      ]
    },
    {
      "cell_type": "code",
      "source": [
        "tensor_two_d = tf.constant([[1, 2, 0],\n",
        "                            [3, 5, -1],\n",
        "                            [1, 5, 6],\n",
        "                            [2, 3, 8]])\n",
        "print(tf.math.reduce_max(tensor_two_d, axis = None, keepdims = False, name = None))"
      ],
      "metadata": {
        "colab": {
          "base_uri": "https://localhost:8080/"
        },
        "id": "t84fDWRvXC0_",
        "outputId": "5693c96e-90cd-4526-ef37-f666427ac392"
      },
      "execution_count": 33,
      "outputs": [
        {
          "output_type": "stream",
          "name": "stdout",
          "text": [
            "tf.Tensor(8, shape=(), dtype=int32)\n"
          ]
        }
      ]
    },
    {
      "cell_type": "code",
      "source": [
        "tensor_two_d = tf.constant([[1, 2, 0],\n",
        "                            [3, 5, -1],\n",
        "                            [1, 5, 6],\n",
        "                            [2, 3, 8]])\n",
        "print(tf.math.reduce_sum(tensor_two_d, axis = 0, keepdims = False, name = None))"
      ],
      "metadata": {
        "colab": {
          "base_uri": "https://localhost:8080/"
        },
        "id": "rw2En1_VXM87",
        "outputId": "e6aefe62-f675-4207-92cf-d678eaa856e8"
      },
      "execution_count": 34,
      "outputs": [
        {
          "output_type": "stream",
          "name": "stdout",
          "text": [
            "tf.Tensor([ 7 15 13], shape=(3,), dtype=int32)\n"
          ]
        }
      ]
    },
    {
      "cell_type": "code",
      "source": [
        "tensor_two_d = tf.constant([[1, 2, 0],\n",
        "                            [3, 5, -1],\n",
        "                            [1, 5, 6],\n",
        "                            [2, 3, 8]], dtype = tf.float16)\n",
        "print(tf.math.reduce_std(tensor_two_d, axis = 0, keepdims = False, name = None))"
      ],
      "metadata": {
        "colab": {
          "base_uri": "https://localhost:8080/"
        },
        "id": "RH2ILruyY0CY",
        "outputId": "39e3917d-a6f9-4d8f-fb3f-8765ae0c28b7"
      },
      "execution_count": 36,
      "outputs": [
        {
          "output_type": "stream",
          "name": "stdout",
          "text": [
            "tf.Tensor([0.829 1.299 3.832], shape=(3,), dtype=float16)\n"
          ]
        }
      ]
    },
    {
      "cell_type": "code",
      "source": [
        "tf.math.top_k(tensor_two_d)"
      ],
      "metadata": {
        "colab": {
          "base_uri": "https://localhost:8080/"
        },
        "id": "fBvNjzsUZPqw",
        "outputId": "a5e68bdd-d525-4c25-ce08-20c6674e3b76"
      },
      "execution_count": 37,
      "outputs": [
        {
          "output_type": "execute_result",
          "data": {
            "text/plain": [
              "TopKV2(values=<tf.Tensor: shape=(4, 1), dtype=float16, numpy=\n",
              "array([[2.],\n",
              "       [5.],\n",
              "       [6.],\n",
              "       [8.]], dtype=float16)>, indices=<tf.Tensor: shape=(4, 1), dtype=int32, numpy=\n",
              "array([[1],\n",
              "       [1],\n",
              "       [2],\n",
              "       [2]], dtype=int32)>)"
            ]
          },
          "metadata": {},
          "execution_count": 37
        }
      ]
    },
    {
      "cell_type": "code",
      "source": [
        "tf.math.top_k(tensor_two_d,  k = 2)"
      ],
      "metadata": {
        "colab": {
          "base_uri": "https://localhost:8080/"
        },
        "id": "JTyOL2Xiaf8b",
        "outputId": "f94dd4be-39a9-483f-d939-7cd49b0645e9"
      },
      "execution_count": 38,
      "outputs": [
        {
          "output_type": "execute_result",
          "data": {
            "text/plain": [
              "TopKV2(values=<tf.Tensor: shape=(4, 2), dtype=float16, numpy=\n",
              "array([[2., 1.],\n",
              "       [5., 3.],\n",
              "       [6., 5.],\n",
              "       [8., 3.]], dtype=float16)>, indices=<tf.Tensor: shape=(4, 2), dtype=int32, numpy=\n",
              "array([[1, 0],\n",
              "       [1, 0],\n",
              "       [2, 1],\n",
              "       [2, 1]], dtype=int32)>)"
            ]
          },
          "metadata": {},
          "execution_count": 38
        }
      ]
    },
    {
      "cell_type": "markdown",
      "source": [
        "# Linear algebra"
      ],
      "metadata": {
        "id": "n87BqBoIfUpw"
      }
    },
    {
      "cell_type": "code",
      "source": [
        "x_1 = tf.constant([[1, 2, 0],\n",
        "                   [3, 5, -1]])\n",
        "x_2 = tf.constant([[1, 2, 0],\n",
        "                   [3, 5, -1],\n",
        "                   [4, 5, 6]])\n",
        "print(x_1.shape, x_2.shape)\n",
        "tf.linalg.matmul(x_1, x_2, transpose_a = False, transpose_b = False, adjoint_b = False,\n",
        "                 a_is_sparse = False, b_is_sparse = False, output_type = None, name = None)"
      ],
      "metadata": {
        "colab": {
          "base_uri": "https://localhost:8080/"
        },
        "id": "RZ-8XOJda4I7",
        "outputId": "c98a95e0-07b1-45e1-bd2b-927e272f9abb"
      },
      "execution_count": 41,
      "outputs": [
        {
          "output_type": "stream",
          "name": "stdout",
          "text": [
            "(2, 3) (3, 3)\n"
          ]
        },
        {
          "output_type": "execute_result",
          "data": {
            "text/plain": [
              "<tf.Tensor: shape=(2, 3), dtype=int32, numpy=\n",
              "array([[  7,  12,  -2],\n",
              "       [ 14,  26, -11]], dtype=int32)>"
            ]
          },
          "metadata": {},
          "execution_count": 41
        }
      ]
    },
    {
      "cell_type": "code",
      "source": [
        "print(x_1@x_2)"
      ],
      "metadata": {
        "colab": {
          "base_uri": "https://localhost:8080/"
        },
        "id": "fikhZKQuiOc7",
        "outputId": "a713470d-ca56-4ae7-fb99-21637f46508f"
      },
      "execution_count": 42,
      "outputs": [
        {
          "output_type": "stream",
          "name": "stdout",
          "text": [
            "tf.Tensor(\n",
            "[[  7  12  -2]\n",
            " [ 14  26 -11]], shape=(2, 3), dtype=int32)\n"
          ]
        }
      ]
    },
    {
      "cell_type": "code",
      "source": [
        "tf.transpose(x_1)"
      ],
      "metadata": {
        "colab": {
          "base_uri": "https://localhost:8080/"
        },
        "id": "VA4R7CB4jMQh",
        "outputId": "42e3f3c7-edca-45cc-e98d-93f6707bc043"
      },
      "execution_count": 44,
      "outputs": [
        {
          "output_type": "execute_result",
          "data": {
            "text/plain": [
              "<tf.Tensor: shape=(3, 2), dtype=int32, numpy=\n",
              "array([[ 1,  3],\n",
              "       [ 2,  5],\n",
              "       [ 0, -1]], dtype=int32)>"
            ]
          },
          "metadata": {},
          "execution_count": 44
        }
      ]
    },
    {
      "cell_type": "code",
      "source": [
        "x_1.T = 3, 2"
      ],
      "metadata": {
        "id": "FkCTa_g8jaok"
      },
      "execution_count": 45,
      "outputs": []
    },
    {
      "cell_type": "code",
      "source": [
        "print(x_1.T)"
      ],
      "metadata": {
        "colab": {
          "base_uri": "https://localhost:8080/"
        },
        "id": "JMZrJ4Z6kXIl",
        "outputId": "49625d49-a8a9-4c00-d650-7e074e8459ce"
      },
      "execution_count": 47,
      "outputs": [
        {
          "output_type": "stream",
          "name": "stdout",
          "text": [
            "(3, 2)\n"
          ]
        }
      ]
    },
    {
      "cell_type": "code",
      "source": [
        "x_1 = tf.constant([[[1, 2], [3, 5]],\n",
        "                   [[10, 2], [1, 0]],\n",
        "                   [[5, 8], [2, 3]],\n",
        "                   [[5, 8], [2, 3]]\n",
        "                              ])\n",
        "x_2 = tf.constant([[[1, 2, 0], [3, 5, -1]],\n",
        "                   [[10, 2, 0], [1, 0, 2]],\n",
        "                   [[5, 8, 0], [2, 3, 4]],\n",
        "                   [[5, 8, 0], [2, 3, 4]]\n",
        "                              ])\n",
        "print(tf.linalg.matmul(x_1, x_2))\n"
      ],
      "metadata": {
        "colab": {
          "base_uri": "https://localhost:8080/"
        },
        "id": "J9UkiM_WkZCO",
        "outputId": "e4d2b9c8-4f35-4e58-d329-8fb4233401e8"
      },
      "execution_count": 49,
      "outputs": [
        {
          "output_type": "stream",
          "name": "stdout",
          "text": [
            "tf.Tensor(\n",
            "[[[  7  12  -2]\n",
            "  [ 18  31  -5]]\n",
            "\n",
            " [[102  20   4]\n",
            "  [ 10   2   0]]\n",
            "\n",
            " [[ 41  64  32]\n",
            "  [ 16  25  12]]\n",
            "\n",
            " [[ 41  64  32]\n",
            "  [ 16  25  12]]], shape=(4, 2, 3), dtype=int32)\n"
          ]
        }
      ]
    },
    {
      "cell_type": "code",
      "source": [
        "x_1 = tf.constant([[0, 0],\n",
        "                  [0, 2]])\n",
        "x_2 = tf.constant([[1, 0, 0],\n",
        "                  [0, 0, 0]])\n",
        "tf.linalg.matmul(x_1, x_2)"
      ],
      "metadata": {
        "colab": {
          "base_uri": "https://localhost:8080/"
        },
        "id": "A7KFcOm-oNA8",
        "outputId": "3a275c94-e483-47ee-de89-1d863799c57d"
      },
      "execution_count": 54,
      "outputs": [
        {
          "output_type": "execute_result",
          "data": {
            "text/plain": [
              "<tf.Tensor: shape=(2, 3), dtype=int32, numpy=\n",
              "array([[0, 0, 0],\n",
              "       [0, 0, 0]], dtype=int32)>"
            ]
          },
          "metadata": {},
          "execution_count": 54
        }
      ]
    },
    {
      "cell_type": "code",
      "source": [
        "tensor_two_d = tf.constant([[1, -2, 0],\n",
        "                           [3, 5, 100],\n",
        "                           [1, 5, 6],\n",
        "                           [2, 3, 8]])\n",
        "tf.linalg.band_part(tensor_two_d, 0, 0)"
      ],
      "metadata": {
        "colab": {
          "base_uri": "https://localhost:8080/"
        },
        "id": "Xrti9-vvpq2M",
        "outputId": "f8fa4b5c-1451-40ec-b0b8-76f199a2248b"
      },
      "execution_count": 55,
      "outputs": [
        {
          "output_type": "execute_result",
          "data": {
            "text/plain": [
              "<tf.Tensor: shape=(4, 3), dtype=int32, numpy=\n",
              "array([[1, 0, 0],\n",
              "       [0, 5, 0],\n",
              "       [0, 0, 6],\n",
              "       [0, 0, 0]], dtype=int32)>"
            ]
          },
          "metadata": {},
          "execution_count": 55
        }
      ]
    },
    {
      "cell_type": "code",
      "source": [
        "# useful special cases:\n",
        "tf.linalg.band_part(input, 0,-1) # upper triangular part\n",
        "tf.linalg.band_part(input, -1, 0) # lower traingular part\n",
        "tf.linalg.band_part(input, 0, 0) # diagonal"
      ],
      "metadata": {
        "id": "R9GDXBV0uSPR"
      },
      "execution_count": null,
      "outputs": []
    },
    {
      "cell_type": "code",
      "source": [
        "tensor_two_d = tf.constant([[1, -2, 0],\n",
        "                           [3, 5, 100],\n",
        "                           [1, 5, 6],])\n",
        "tf.linalg.band_part(tensor_two_d, 0, 0)"
      ],
      "metadata": {
        "colab": {
          "base_uri": "https://localhost:8080/"
        },
        "id": "Rqvu8EAgvMZG",
        "outputId": "2a2f80b0-3380-4f63-f341-611cfd0351f0"
      },
      "execution_count": 56,
      "outputs": [
        {
          "output_type": "execute_result",
          "data": {
            "text/plain": [
              "<tf.Tensor: shape=(3, 3), dtype=int32, numpy=\n",
              "array([[1, 0, 0],\n",
              "       [0, 5, 0],\n",
              "       [0, 0, 6]], dtype=int32)>"
            ]
          },
          "metadata": {},
          "execution_count": 56
        }
      ]
    },
    {
      "cell_type": "code",
      "source": [
        "tensor_two_d = tf.constant([[1, -2, 0],\n",
        "                           [3, 5, 100],\n",
        "                           [1, 5, 6]], dtype = tf.float32)\n",
        "tensor_two_d_inv = tf.linalg.inv(tensor_two_d)"
      ],
      "metadata": {
        "id": "STgfSkytvT_W"
      },
      "execution_count": 3,
      "outputs": []
    },
    {
      "cell_type": "code",
      "source": [
        "s, u, v = tf.linalg.svd(tensor_two_d)"
      ],
      "metadata": {
        "id": "qVHeLgZFjdQe"
      },
      "execution_count": 6,
      "outputs": []
    },
    {
      "cell_type": "code",
      "source": [
        "print(s)\n",
        "print(u)"
      ],
      "metadata": {
        "colab": {
          "base_uri": "https://localhost:8080/"
        },
        "id": "D6-WIAnokKJW",
        "outputId": "15ec43e9-eca4-401e-963f-9d474eae7f51"
      },
      "execution_count": 7,
      "outputs": [
        {
          "output_type": "stream",
          "name": "stdout",
          "text": [
            "tf.Tensor([100.3663      5.1059036   1.2371687], shape=(3,), dtype=float32)\n",
            "tf.Tensor(\n",
            "[[-7.4980810e-04 -3.7569830e-01  9.2674178e-01]\n",
            " [ 9.9803799e-01 -5.8300879e-02 -2.2827482e-02]\n",
            " [ 6.2606096e-02  9.2490643e-01  3.7500489e-01]], shape=(3, 3), dtype=float32)\n"
          ]
        }
      ]
    },
    {
      "cell_type": "code",
      "source": [
        "A = np.array([[2, 6, 5, 2],\n",
        "             [2, -2, 3, 2],\n",
        "             [1, 5, 4, 0]])\n",
        "B = np.array([[2, 9, 0, 3, 0],\n",
        "             [3, 6, 8, -2, 2],\n",
        "             [1, 3, 5, 0, 1]])"
      ],
      "metadata": {
        "id": "h6c1cVyRkVfU"
      },
      "execution_count": null,
      "outputs": []
    },
    {
      "cell_type": "markdown",
      "source": [
        "# Ragged Tensor"
      ],
      "metadata": {
        "id": "MoDlkGSvtPds"
      }
    },
    {
      "cell_type": "code",
      "source": [
        "tensor_two_d = tf.constant([[1, 2, 0],\n",
        "                            [3, 5, -1],\n",
        "                            [1, 5, 6],\n",
        "                            [2, 3, 8]])\n",
        "print(tensor_two_d.shape)"
      ],
      "metadata": {
        "colab": {
          "base_uri": "https://localhost:8080/"
        },
        "id": "lfAWEoJytSDb",
        "outputId": "0bd47cea-6900-4dff-9d99-eed681a772e5"
      },
      "execution_count": 9,
      "outputs": [
        {
          "output_type": "stream",
          "name": "stdout",
          "text": [
            "(4, 3)\n"
          ]
        }
      ]
    },
    {
      "cell_type": "code",
      "source": [
        "tensor_two_d = ([[1, 2, 0],\n",
        "                            [3,],\n",
        "                            [1, 5, 6, 5, 6],\n",
        "                            [2, 3]])\n",
        "tensor_ragged = tf.ragged.constant(tensor_two_d)\n",
        "print(tensor_ragged.shape)\n",
        "print(tensor_ragged)"
      ],
      "metadata": {
        "colab": {
          "base_uri": "https://localhost:8080/"
        },
        "id": "SA1kPv31xIWV",
        "outputId": "b5a9977c-740e-4107-ccd3-708c9f03d2de"
      },
      "execution_count": 13,
      "outputs": [
        {
          "output_type": "stream",
          "name": "stdout",
          "text": [
            "(4, None)\n",
            "<tf.RaggedTensor [[1, 2, 0], [3], [1, 5, 6, 5, 6], [2, 3]]>\n"
          ]
        }
      ]
    },
    {
      "cell_type": "code",
      "source": [
        "print(tf.RaggedTensor.from_row_lengths(\n",
        "    values = [3, 1, 4, 1, 5, 9, 2, 6],\n",
        "    row_lengths = [4, 0, 3, 1, 0]\n",
        "))"
      ],
      "metadata": {
        "colab": {
          "base_uri": "https://localhost:8080/"
        },
        "id": "q3IpVIs5xzel",
        "outputId": "a701aa71-464c-479e-d276-d0f961d4a79f"
      },
      "execution_count": 14,
      "outputs": [
        {
          "output_type": "stream",
          "name": "stdout",
          "text": [
            "<tf.RaggedTensor [[3, 1, 4, 1], [], [5, 9, 2], [6], []]>\n"
          ]
        }
      ]
    },
    {
      "cell_type": "markdown",
      "source": [
        "# Sparse Tensor"
      ],
      "metadata": {
        "id": "Gzg3KIzZ2fJp"
      }
    },
    {
      "cell_type": "code",
      "source": [
        "tensor_sparse = tf.sparse.SparseTensor(\n",
        "    indices = [[1, 1], [3, 4]], values = [11, 56], dense_shape = [5, 6]\n",
        ")"
      ],
      "metadata": {
        "id": "oyclv4uq14JT"
      },
      "execution_count": 15,
      "outputs": []
    },
    {
      "cell_type": "code",
      "source": [
        "print(tensor_sparse)"
      ],
      "metadata": {
        "colab": {
          "base_uri": "https://localhost:8080/"
        },
        "id": "9RWC8KMd3ij0",
        "outputId": "a93671ca-77a2-44cf-90c6-3e9fb11a014a"
      },
      "execution_count": 16,
      "outputs": [
        {
          "output_type": "stream",
          "name": "stdout",
          "text": [
            "SparseTensor(indices=tf.Tensor(\n",
            "[[1 1]\n",
            " [3 4]], shape=(2, 2), dtype=int64), values=tf.Tensor([11 56], shape=(2,), dtype=int32), dense_shape=tf.Tensor([5 6], shape=(2,), dtype=int64))\n"
          ]
        }
      ]
    },
    {
      "cell_type": "code",
      "source": [
        "tf.sparse.to_dense(tensor_sparse)"
      ],
      "metadata": {
        "colab": {
          "base_uri": "https://localhost:8080/"
        },
        "id": "ZmfZic033nES",
        "outputId": "9bffe565-2bf8-494e-eea0-4b19c99e3e2f"
      },
      "execution_count": 17,
      "outputs": [
        {
          "output_type": "execute_result",
          "data": {
            "text/plain": [
              "<tf.Tensor: shape=(5, 6), dtype=int32, numpy=\n",
              "array([[ 0,  0,  0,  0,  0,  0],\n",
              "       [ 0, 11,  0,  0,  0,  0],\n",
              "       [ 0,  0,  0,  0,  0,  0],\n",
              "       [ 0,  0,  0,  0, 56,  0],\n",
              "       [ 0,  0,  0,  0,  0,  0]], dtype=int32)>"
            ]
          },
          "metadata": {},
          "execution_count": 17
        }
      ]
    },
    {
      "cell_type": "markdown",
      "source": [
        "# String tensors"
      ],
      "metadata": {
        "id": "vhDbB5Mz3-kN"
      }
    },
    {
      "cell_type": "code",
      "source": [
        "tensor_string = tf.constant([\"hello\", \"i am\", \"a string\"])\n",
        "print(tensor_string)"
      ],
      "metadata": {
        "colab": {
          "base_uri": "https://localhost:8080/"
        },
        "id": "yG1yrnlv3q4R",
        "outputId": "ff62b00b-0451-4755-d58e-d93013ba6b8f"
      },
      "execution_count": 18,
      "outputs": [
        {
          "output_type": "stream",
          "name": "stdout",
          "text": [
            "tf.Tensor([b'hello' b'i am' b'a string'], shape=(3,), dtype=string)\n"
          ]
        }
      ]
    },
    {
      "cell_type": "code",
      "source": [
        "tf.strings.join(tensor_string, separator = \" \")"
      ],
      "metadata": {
        "colab": {
          "base_uri": "https://localhost:8080/"
        },
        "id": "GpcvHCSU4zME",
        "outputId": "97ce17cf-f5a1-46f9-9af2-8daee4b7b156"
      },
      "execution_count": 22,
      "outputs": [
        {
          "output_type": "execute_result",
          "data": {
            "text/plain": [
              "<tf.Tensor: shape=(), dtype=string, numpy=b'hello i am a string'>"
            ]
          },
          "metadata": {},
          "execution_count": 22
        }
      ]
    },
    {
      "cell_type": "markdown",
      "source": [
        "# Tensor variables"
      ],
      "metadata": {
        "id": "gejrG82j5nW4"
      }
    },
    {
      "cell_type": "code",
      "source": [
        "x = tf.constant([1, 2])"
      ],
      "metadata": {
        "id": "8zqB-eqr5chY"
      },
      "execution_count": 23,
      "outputs": []
    },
    {
      "cell_type": "code",
      "source": [
        "x_var = tf.Variable(x, name = 'var1')\n",
        "print(x_var)"
      ],
      "metadata": {
        "colab": {
          "base_uri": "https://localhost:8080/"
        },
        "id": "p3QVkxh052m_",
        "outputId": "e21e76a9-e2c2-4657-898a-27be5c2fe427"
      },
      "execution_count": 26,
      "outputs": [
        {
          "output_type": "stream",
          "name": "stdout",
          "text": [
            "<tf.Variable 'var1:0' shape=(2,) dtype=int32, numpy=array([1, 2], dtype=int32)>\n"
          ]
        }
      ]
    },
    {
      "cell_type": "code",
      "source": [
        "x_var.assign_sub([3, 4])"
      ],
      "metadata": {
        "colab": {
          "base_uri": "https://localhost:8080/"
        },
        "id": "DyahoRed56VW",
        "outputId": "c89ff57d-77d6-48f7-a169-cb271ac1f755"
      },
      "execution_count": 33,
      "outputs": [
        {
          "output_type": "execute_result",
          "data": {
            "text/plain": [
              "<tf.Variable 'UnreadVariable' shape=(2,) dtype=int32, numpy=array([-2, -2], dtype=int32)>"
            ]
          },
          "metadata": {},
          "execution_count": 33
        }
      ]
    },
    {
      "cell_type": "code",
      "source": [
        "with tf.device('GPU:0'):\n",
        " x_var = tf.Variable(0.2)\n",
        "print(x_var)"
      ],
      "metadata": {
        "colab": {
          "base_uri": "https://localhost:8080/"
        },
        "id": "FwL2L9dq8Yl8",
        "outputId": "e8c012e6-ba0d-48ad-a7b6-a078ac0ba30a"
      },
      "execution_count": 35,
      "outputs": [
        {
          "output_type": "stream",
          "name": "stdout",
          "text": [
            "<tf.Variable 'Variable:0' shape=() dtype=float32, numpy=0.2>\n"
          ]
        }
      ]
    },
    {
      "cell_type": "code",
      "source": [],
      "metadata": {
        "id": "xm1_2hXC-Iag"
      },
      "execution_count": null,
      "outputs": []
    }
  ]
}